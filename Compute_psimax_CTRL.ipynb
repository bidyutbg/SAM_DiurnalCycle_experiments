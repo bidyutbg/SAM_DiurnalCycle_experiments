{
 "cells": [
  {
   "cell_type": "code",
   "execution_count": 1,
   "id": "c3206521",
   "metadata": {},
   "outputs": [],
   "source": [
    "import numpy as np\n",
    "import scipy.signal as signal\n",
    "import xarray as xr\n",
    "import dask.array as da\n",
    "import matplotlib.pyplot as plt\n",
    "\n",
    "# Inputs\n",
    "nx = 256\n",
    "ny = 256\n",
    "nz = 64\n",
    "date = 20221230\n",
    "bc = ''  # Boundary condition\n",
    "notes = '(SSTSTEADY)'\n",
    "day = [0, 100]  # Days for pre-aggregation\n",
    "\n",
    "# Constants\n",
    "Cp = 1004  # Specific heat at constant pressure (J/kg/K)\n",
    "g = 9.81  # Acceleration due to gravity (m/s^2)\n",
    "Lf = 0.3336e+06  # Latent heat of fusion (J/kg)\n",
    "Ls = 2.8440e+06  # Latent heat of sublimation (J/kg)\n",
    "Lv = Ls - Lf  # Latent heat of vaporization (J/kg)\n",
    "\n",
    "# Locate nc files\n",
    "job = 'SAM6108_RCE_MC_%8.8d_%3.3dx%3.3d' % (date, nx, ny) + str(bc)\n",
    "path = '/fs3/group/mullegrp/Bidyut_Goswami/sam_data/' + job + '/OUT_' + job + '/NETCDF_files/'"
   ]
  },
  {
   "cell_type": "code",
   "execution_count": 2,
   "id": "d6c5488c",
   "metadata": {},
   "outputs": [
    {
     "data": {
      "text/plain": [
       "'/fs3/group/mullegrp/Bidyut_Goswami/sam_data/SAM6108_RCE_MC_20221230_256x256/OUT_SAM6108_RCE_MC_20221230_256x256/NETCDF_files/RCE_MC_SAM6108_RCE_MC_20221230_256x256.nc'"
      ]
     },
     "execution_count": 2,
     "metadata": {},
     "output_type": "execute_result"
    }
   ],
   "source": [
    "fid = path + 'RCE_MC_' + job + '.nc'\n",
    "fid"
   ]
  },
  {
   "cell_type": "code",
   "execution_count": 3,
   "id": "b8447b0e",
   "metadata": {},
   "outputs": [],
   "source": [
    "# Read 1D nc files\n",
    "fid = path + 'RCE_MC_' + job + '.nc'\n",
    "f_totrho = xr.open_dataset(fid)\n",
    "totrho = f_totrho['RHO']"
   ]
  },
  {
   "cell_type": "code",
   "execution_count": 4,
   "id": "7ab4fa0f",
   "metadata": {},
   "outputs": [],
   "source": [
    "# Read 2D nc files\n",
    "totMSE = []\n",
    "for i in np.arange(1, 4, 1):\n",
    "    fid = path + 'RCE_MC_' + job + '_' + str(nz) + '.2Dcom_%1d.nc' % i\n",
    "    tt = xr.open_dataset(fid)\n",
    "    totMSE.append(tt['MSE'])\n",
    "totMSE = xr.concat(totMSE, dim='time')\n"
   ]
  },
  {
   "cell_type": "code",
   "execution_count": 5,
   "id": "823e82b3",
   "metadata": {},
   "outputs": [],
   "source": [
    "# Read 3D nc files using Dask\n",
    "W = []\n",
    "TABS = []\n",
    "QV = []\n",
    "for i in range(len(day) - 1):  # Corrected loop index\n",
    "    timestep = np.arange(1080 * 8 * (day[i]), 1080 * 8 * (day[i+1]) + 1, 1080)[1:]\n",
    "    for t in timestep:\n",
    "        fid = path + 'RCE_MC_' + job + '_' + str(nz) + '_%10.10d.nc' % t\n",
    "        tmp = xr.open_dataset(fid, chunks={'time': 'auto'})  # Use Dask chunks\n",
    "        W.append(tmp['W'])\n",
    "        TABS.append(tmp['TABS'])\n",
    "        QV.append(tmp['QV'])\n",
    "\n",
    "W = xr.concat(W, dim='time')\n",
    "TABS = xr.concat(TABS, dim='time')\n",
    "QV = xr.concat(QV, dim='time')\n",
    "\n"
   ]
  },
  {
   "cell_type": "code",
   "execution_count": 6,
   "id": "780541f1",
   "metadata": {},
   "outputs": [],
   "source": [
    "#Number of days of simulation\n",
    "period=100"
   ]
  },
  {
   "cell_type": "code",
   "execution_count": 7,
   "id": "25aed197",
   "metadata": {},
   "outputs": [],
   "source": [
    "z=W.z.values\n",
    "nlev=len(z)"
   ]
  },
  {
   "cell_type": "code",
   "execution_count": 8,
   "id": "2f0447fa",
   "metadata": {},
   "outputs": [],
   "source": [
    "#Trim rho\n",
    "rho_new = totrho[:, :nlev]"
   ]
  },
  {
   "cell_type": "code",
   "execution_count": 9,
   "id": "8f570a7c",
   "metadata": {},
   "outputs": [],
   "source": [
    "#Reshape arrays\n",
    "re_rho = np.reshape(rho_new.values, (24, period, nlev), order='F')\n",
    "# Smooth data\n",
    "smooth_rho = np.mean(re_rho, 0)\n"
   ]
  },
  {
   "cell_type": "code",
   "execution_count": 10,
   "id": "eb80b613",
   "metadata": {},
   "outputs": [],
   "source": [
    "#Reshape arrays\n",
    "re_MSE = np.reshape(totMSE.values, (24, period, 256, 256), order='F') #24 because hourly data\n",
    "# Smooth data\n",
    "smooth_MSE = np.mean(re_MSE, 0)\n"
   ]
  },
  {
   "cell_type": "code",
   "execution_count": 11,
   "id": "de2a6682",
   "metadata": {},
   "outputs": [],
   "source": [
    "#Reshape arrays\n",
    "re_W = np.reshape(W.values, (8, period, nlev, 256, 256), order='F') #8 because 3 hourly data\n",
    "# Smooth data\n",
    "smooth_W = np.mean(re_W, 0)\n"
   ]
  },
  {
   "cell_type": "code",
   "execution_count": 12,
   "id": "e799acc6",
   "metadata": {},
   "outputs": [],
   "source": [
    "#Reshape arrays\n",
    "re_TABS = np.reshape(TABS.values, (8, period, nlev, 256, 256), order='F') #8 because 3 hourly data\n",
    "# Smooth data\n",
    "smooth_TABS = np.mean(re_TABS, 0)\n"
   ]
  },
  {
   "cell_type": "code",
   "execution_count": 13,
   "id": "719ed477",
   "metadata": {},
   "outputs": [],
   "source": [
    "#Reshape arrays\n",
    "re_QV = np.reshape(QV.values, (8, period, nlev, 256, 256), order='F') #8 because 3 hourly data\n",
    "# Smooth data\n",
    "smooth_QV = np.mean(re_QV, 0)"
   ]
  },
  {
   "cell_type": "code",
   "execution_count": 14,
   "id": "e5fa5f06",
   "metadata": {},
   "outputs": [],
   "source": [
    "# Coarsening using SciPy\n",
    "block = 32\n",
    "cMSE = []\n",
    "sumW = []\n",
    "for tt in np.arange(0, period, 1):\n",
    "    c1 = signal.convolve2d(smooth_MSE[tt, :, :], np.ones((block, block)), 'valid')\n",
    "    cMSE.append(c1[::block, ::block] / block ** 2)\n",
    "\n",
    "    tmp = []\n",
    "    for i in range(len(z)):\n",
    "        c3 = signal.convolve2d(smooth_W[tt, i, :, :], np.ones((block, block)), 'valid')\n",
    "        tmp.append(c3[::block, ::block])\n",
    "    tmp = np.array(tmp)\n",
    "    sumW.append(tmp)\n",
    "\n",
    "cMSE = np.array(cMSE)\n",
    "sumW = np.array(sumW)\n",
    "\n",
    "# Squeeze and sort\n",
    "reMSE = np.reshape(cMSE, (period, int(nx * ny / block ** 2)), order='F')\n",
    "reW = np.reshape(sumW, (period, len(z), int(nx * ny / block ** 2)), order='F').T\n",
    "\n",
    "for tt in np.arange(0, period, 1):\n",
    "    aMSE = reMSE[tt, :].copy()\n",
    "    idx = np.argsort(aMSE)\n",
    "    aMSE_sorted = np.sort(aMSE)\n",
    "\n",
    "    for j in range(len(z)):\n",
    "        aW = reW[:, j, tt]\n",
    "        aW = aW[idx]\n",
    "        reW[:, j, tt] = aW\n",
    "\n"
   ]
  },
  {
   "cell_type": "code",
   "execution_count": 15,
   "id": "e9fc09ee",
   "metadata": {},
   "outputs": [],
   "source": [
    "# Calculate effective streamfunction\n",
    "psi = np.zeros((period, int(nx * ny / block ** 2), len(z)))\n",
    "\n",
    "for tt in np.arange(0, period, 1):\n",
    "    for j in range(len(z)):\n",
    "        psi[tt, 0, j] = smooth_rho[tt, j] * reW[0, j, tt]\n",
    "        for i in range(2, int(nx * ny / block ** 2), 1):\n",
    "            psi[tt, i, j] = psi[tt, i - 1, j] + smooth_rho[tt, j] * reW[i, j, tt]"
   ]
  },
  {
   "cell_type": "code",
   "execution_count": 16,
   "id": "edb80ea6",
   "metadata": {},
   "outputs": [
    {
     "data": {
      "text/plain": [
       "(100, 64, 53)"
      ]
     },
     "execution_count": 16,
     "metadata": {},
     "output_type": "execute_result"
    }
   ],
   "source": [
    "psi.shape"
   ]
  },
  {
   "cell_type": "code",
   "execution_count": 17,
   "id": "dccf87b0",
   "metadata": {},
   "outputs": [
    {
     "data": {
      "text/plain": [
       "[<matplotlib.lines.Line2D at 0x14b5996faaf0>]"
      ]
     },
     "execution_count": 17,
     "metadata": {},
     "output_type": "execute_result"
    },
    {
     "data": {
      "image/png": "[encoded data removed]",
      "text/plain": [
       "<Figure size 432x288 with 1 Axes>"
      ]
     },
     "metadata": {
      "needs_background": "light"
     },
     "output_type": "display_data"
    }
   ],
   "source": [
    "psi_cdf=[]\n",
    "for i in range(period):\n",
    "    psimean=-1*np.mean(psi[i,:,:10],0)\n",
    "    z_min = np.where(psimean==psimean.max())[0][0]\n",
    "    psi_cdf.append(psimean[:z_min].sum())\n",
    "plt.plot(psi_cdf)"
   ]
  },
  {
   "cell_type": "code",
   "execution_count": 18,
   "id": "a20319e2",
   "metadata": {},
   "outputs": [],
   "source": [
    "import scipy.io.wavfile\n",
    "import scipy.signal\n",
    "\n",
    "b, a = scipy.signal.butter(3, 0.05)\n",
    "\n",
    "psi_cdf_sm = scipy.signal.filtfilt(b, a, psi_cdf)"
   ]
  },
  {
   "cell_type": "code",
   "execution_count": 19,
   "id": "4dedab0a",
   "metadata": {},
   "outputs": [
    {
     "data": {
      "text/plain": [
       "[<matplotlib.lines.Line2D at 0x14b59953ce80>]"
      ]
     },
     "execution_count": 19,
     "metadata": {},
     "output_type": "execute_result"
    },
    {
     "data": {
      "image/png": "[encoded data removed]",
      "text/plain": [
       "<Figure size 432x288 with 1 Axes>"
      ]
     },
     "metadata": {
      "needs_background": "light"
     },
     "output_type": "display_data"
    }
   ],
   "source": [
    "plt.plot(psi_cdf)\n",
    "plt.plot(psi_cdf_sm)"
   ]
  },
  {
   "cell_type": "code",
   "execution_count": 20,
   "id": "5a1eb01d",
   "metadata": {},
   "outputs": [
    {
     "name": "stdout",
     "output_type": "stream",
     "text": [
      "length of psi_cdf 100\n"
     ]
    }
   ],
   "source": [
    "print('length of psi_cdf',len(psi_cdf))"
   ]
  },
  {
   "cell_type": "code",
   "execution_count": 21,
   "id": "b8cc2bfd",
   "metadata": {},
   "outputs": [
    {
     "name": "stdout",
     "output_type": "stream",
     "text": [
      "Stored 'psi01' (ndarray)\n",
      "Stored 'psi01_raw' (list)\n"
     ]
    }
   ],
   "source": [
    "psi01=psi_cdf_sm.copy()\n",
    "%store psi01"
   ]
  }
 ],
 "metadata": {
  "kernelspec": {
   "display_name": "Python 3 (ipykernel)",
   "language": "python",
   "name": "python3"
  },
  "language_info": {
   "codemirror_mode": {
    "name": "ipython",
    "version": 3
   },
   "file_extension": ".py",
   "mimetype": "text/x-python",
   "name": "python",
   "nbconvert_exporter": "python",
   "pygments_lexer": "ipython3",
   "version": "3.9.12"
  }
 },
 "nbformat": 4,
 "nbformat_minor": 5
}
